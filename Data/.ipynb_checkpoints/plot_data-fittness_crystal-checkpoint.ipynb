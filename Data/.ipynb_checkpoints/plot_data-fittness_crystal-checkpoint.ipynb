{
 "cells": [
  {
   "cell_type": "code",
   "execution_count": 123,
   "metadata": {},
   "outputs": [],
   "source": [
    "import numpy as np\n",
    "import pandas as pd\n",
    "import matplotlib.pyplot as plt\n",
    "import scipy.interpolate"
   ]
  },
  {
   "cell_type": "code",
   "execution_count": 124,
   "metadata": {},
   "outputs": [
    {
     "name": "stdout",
     "output_type": "stream",
     "text": [
      "   Generation         x         y     theta       psi       phi  lattice_sum  \\\n",
      "0           0 -0.641149  1.000000 -1.402730       NaN  0.646801     0.074963   \n",
      "1           0  0.848946  0.695372  1.333430  2.308650  1.092110     0.106805   \n",
      "2           0  0.865088  1.000000  1.569930  1.555680  0.013071     0.563799   \n",
      "3           0  0.786015  0.711129  1.234550  2.183920  1.116870     0.138131   \n",
      "4           0  0.224297  1.000000  0.351882  0.843566  0.148023     2.406980   \n",
      "5           0  0.721399  0.999662  1.133010  0.293636  1.570260     0.102566   \n",
      "\n",
      "    fitness  \n",
      "0  2.138940  \n",
      "1  1.931890  \n",
      "2  0.448112  \n",
      "3  1.747760  \n",
      "4  0.001236  \n",
      "5  1.958250  \n"
     ]
    },
    {
     "name": "stderr",
     "output_type": "stream",
     "text": [
      "/Users/samuelruhl/anaconda2/envs/py37/lib/python3.7/site-packages/ipykernel_launcher.py:2: FutureWarning: read_table is deprecated, use read_csv instead.\n",
      "  \n"
     ]
    }
   ],
   "source": [
    "\n",
    "df_data=pd.read_table('crystal_data.txt',sep=\" \",skiprows=4)\n",
    "print(df_data.iloc[:6,:])"
   ]
  },
  {
   "cell_type": "code",
   "execution_count": 125,
   "metadata": {},
   "outputs": [
    {
     "ename": "IndexError",
     "evalue": "list index out of range",
     "output_type": "error",
     "traceback": [
      "\u001b[0;31m---------------------------------------------------------------------------\u001b[0m",
      "\u001b[0;31mIndexError\u001b[0m                                Traceback (most recent call last)",
      "\u001b[0;32m<ipython-input-125-7041454f4cc4>\u001b[0m in \u001b[0;36m<module>\u001b[0;34m\u001b[0m\n\u001b[1;32m      9\u001b[0m         \u001b[0mbefore\u001b[0m\u001b[0;34m=\u001b[0m\u001b[0mi\u001b[0m\u001b[0;34m-\u001b[0m\u001b[0;36m1\u001b[0m\u001b[0;34m\u001b[0m\u001b[0;34m\u001b[0m\u001b[0m\n\u001b[1;32m     10\u001b[0m         \u001b[0mcount\u001b[0m\u001b[0;34m+=\u001b[0m\u001b[0;36m1\u001b[0m\u001b[0;34m\u001b[0m\u001b[0;34m\u001b[0m\u001b[0m\n\u001b[0;32m---> 11\u001b[0;31m \u001b[0mprint\u001b[0m\u001b[0;34m(\u001b[0m\u001b[0mgenerations\u001b[0m\u001b[0;34m[\u001b[0m\u001b[0;36m19\u001b[0m\u001b[0;34m]\u001b[0m\u001b[0;34m[\u001b[0m\u001b[0;34m'fitness'\u001b[0m\u001b[0;34m]\u001b[0m\u001b[0;34m.\u001b[0m\u001b[0mmax\u001b[0m\u001b[0;34m(\u001b[0m\u001b[0;34m)\u001b[0m\u001b[0;34m)\u001b[0m\u001b[0;34m\u001b[0m\u001b[0;34m\u001b[0m\u001b[0m\n\u001b[0m",
      "\u001b[0;31mIndexError\u001b[0m: list index out of range"
     ]
    }
   ],
   "source": [
    "#split in Generations\n",
    "generations=[]\n",
    "count=0\n",
    "before=0\n",
    "tmp_list=[]\n",
    "for i,gen in enumerate(df_data[\"Generation\"]):\n",
    "    if gen!=count:\n",
    "        generations.append(df_data.iloc[before:i-1,:])\n",
    "        before=i-1\n",
    "        count+=1\n",
    "print(generations[10]['fitness'].max())"
   ]
  },
  {
   "cell_type": "code",
   "execution_count": null,
   "metadata": {},
   "outputs": [],
   "source": []
  },
  {
   "cell_type": "code",
   "execution_count": 126,
   "metadata": {},
   "outputs": [],
   "source": [
    "#find fittest per Generation\n",
    "fitest=[]\n",
    "best_sol_x=[]\n",
    "best_sol_y=[]\n",
    "for i,gen in enumerate(generations):\n",
    "    fitest.append(generations[i]['fitness'].max())\n",
    "    for j,ele in enumerate(generations[i]['fitness']):\n",
    "        if (generations[i]['fitness'].iloc[j]==fitest[i]):\n",
    "            best_sol_x.append(generations[i]['x'].iloc[j])\n",
    "            best_sol_y.append(generations[i]['y'].iloc[j])"
   ]
  },
  {
   "cell_type": "code",
   "execution_count": 127,
   "metadata": {},
   "outputs": [
    {
     "data": {
      "image/png": "[encoded data removed]",
      "text/plain": [
       "<Figure size 1080x504 with 1 Axes>"
      ]
     },
     "metadata": {
      "needs_background": "light"
     },
     "output_type": "display_data"
    }
   ],
   "source": [
    "plt.figure(figsize=(15,7))\n",
    "plt.plot(fitest)\n",
    "#plt.yscale('log')\n",
    "plt.ylabel('Fitness')\n",
    "plt.xlabel('Generation')\n",
    "plt.title('Fittest per Generation')\n",
    "plt.savefig('Fittest.png')"
   ]
  },
  {
   "cell_type": "code",
   "execution_count": null,
   "metadata": {},
   "outputs": [],
   "source": []
  },
  {
   "cell_type": "code",
   "execution_count": null,
   "metadata": {},
   "outputs": [],
   "source": []
  },
  {
   "cell_type": "code",
   "execution_count": null,
   "metadata": {},
   "outputs": [],
   "source": []
  },
  {
   "cell_type": "code",
   "execution_count": null,
   "metadata": {},
   "outputs": [],
   "source": []
  }
 ],
 "metadata": {
  "kernelspec": {
   "display_name": "Python 3",
   "language": "python",
   "name": "python3"
  },
  "language_info": {
   "codemirror_mode": {
    "name": "ipython",
    "version": 3
   },
   "file_extension": ".py",
   "mimetype": "text/x-python",
   "name": "python",
   "nbconvert_exporter": "python",
   "pygments_lexer": "ipython3",
   "version": "3.7.3"
  }
 },
 "nbformat": 4,
 "nbformat_minor": 2
}
