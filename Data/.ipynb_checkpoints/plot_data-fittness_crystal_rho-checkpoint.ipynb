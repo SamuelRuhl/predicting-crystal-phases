{
 "cells": [
  {
   "cell_type": "code",
   "execution_count": 232,
   "metadata": {},
   "outputs": [],
   "source": [
    "import numpy as np\n",
    "import pandas as pd\n",
    "import matplotlib.pyplot as plt\n",
    "import scipy.interpolate"
   ]
  },
  {
   "cell_type": "code",
   "execution_count": 233,
   "metadata": {},
   "outputs": [
    {
     "name": "stderr",
     "output_type": "stream",
     "text": [
      "/Users/samuelruhl/anaconda2/envs/py37/lib/python3.7/site-packages/ipykernel_launcher.py:2: FutureWarning: read_table is deprecated, use read_csv instead.\n",
      "  \n",
      "/Users/samuelruhl/anaconda2/envs/py37/lib/python3.7/site-packages/ipykernel_launcher.py:3: FutureWarning: read_table is deprecated, use read_csv instead.\n",
      "  This is separate from the ipykernel package so we can avoid doing imports until\n",
      "/Users/samuelruhl/anaconda2/envs/py37/lib/python3.7/site-packages/ipykernel_launcher.py:4: FutureWarning: read_table is deprecated, use read_csv instead.\n",
      "  after removing the cwd from sys.path.\n",
      "/Users/samuelruhl/anaconda2/envs/py37/lib/python3.7/site-packages/ipykernel_launcher.py:5: FutureWarning: read_table is deprecated, use read_csv instead.\n",
      "  \"\"\"\n",
      "/Users/samuelruhl/anaconda2/envs/py37/lib/python3.7/site-packages/ipykernel_launcher.py:6: FutureWarning: read_table is deprecated, use read_csv instead.\n",
      "  \n",
      "/Users/samuelruhl/anaconda2/envs/py37/lib/python3.7/site-packages/ipykernel_launcher.py:7: FutureWarning: read_table is deprecated, use read_csv instead.\n",
      "  import sys\n",
      "/Users/samuelruhl/anaconda2/envs/py37/lib/python3.7/site-packages/ipykernel_launcher.py:8: FutureWarning: read_table is deprecated, use read_csv instead.\n",
      "  \n",
      "/Users/samuelruhl/anaconda2/envs/py37/lib/python3.7/site-packages/ipykernel_launcher.py:9: FutureWarning: read_table is deprecated, use read_csv instead.\n",
      "  if __name__ == '__main__':\n"
     ]
    },
    {
     "data": {
      "text/html": [
       "<div>\n",
       "<style scoped>\n",
       "    .dataframe tbody tr th:only-of-type {\n",
       "        vertical-align: middle;\n",
       "    }\n",
       "\n",
       "    .dataframe tbody tr th {\n",
       "        vertical-align: top;\n",
       "    }\n",
       "\n",
       "    .dataframe thead th {\n",
       "        text-align: right;\n",
       "    }\n",
       "</style>\n",
       "<table border=\"1\" class=\"dataframe\">\n",
       "  <thead>\n",
       "    <tr style=\"text-align: right;\">\n",
       "      <th></th>\n",
       "      <th>Generation</th>\n",
       "      <th>x</th>\n",
       "      <th>y</th>\n",
       "      <th>theta</th>\n",
       "      <th>psi</th>\n",
       "      <th>phi</th>\n",
       "      <th>lattice_sum</th>\n",
       "      <th>fitness</th>\n",
       "    </tr>\n",
       "  </thead>\n",
       "  <tbody>\n",
       "    <tr>\n",
       "      <th>0</th>\n",
       "      <td>0</td>\n",
       "      <td>0.873412</td>\n",
       "      <td>0.800179</td>\n",
       "      <td>1.370070</td>\n",
       "      <td>2.74002</td>\n",
       "      <td>1.253950</td>\n",
       "      <td>0.076356</td>\n",
       "      <td>0.000000e+00</td>\n",
       "    </tr>\n",
       "    <tr>\n",
       "      <th>1</th>\n",
       "      <td>0</td>\n",
       "      <td>0.895821</td>\n",
       "      <td>0.841719</td>\n",
       "      <td>1.405600</td>\n",
       "      <td>2.50770</td>\n",
       "      <td>1.319820</td>\n",
       "      <td>0.063826</td>\n",
       "      <td>8.984880e-01</td>\n",
       "    </tr>\n",
       "    <tr>\n",
       "      <th>2</th>\n",
       "      <td>0</td>\n",
       "      <td>0.720193</td>\n",
       "      <td>0.937961</td>\n",
       "      <td>1.127120</td>\n",
       "      <td>2.81110</td>\n",
       "      <td>1.472420</td>\n",
       "      <td>0.114572</td>\n",
       "      <td>3.726170e-01</td>\n",
       "    </tr>\n",
       "    <tr>\n",
       "      <th>3</th>\n",
       "      <td>0</td>\n",
       "      <td>0.473253</td>\n",
       "      <td>0.098027</td>\n",
       "      <td>0.735559</td>\n",
       "      <td>2.63948</td>\n",
       "      <td>0.140581</td>\n",
       "      <td>1.778850</td>\n",
       "      <td>1.083480e-13</td>\n",
       "    </tr>\n",
       "    <tr>\n",
       "      <th>4</th>\n",
       "      <td>0</td>\n",
       "      <td>0.953222</td>\n",
       "      <td>0.184079</td>\n",
       "      <td>1.496620</td>\n",
       "      <td>2.25396</td>\n",
       "      <td>0.277030</td>\n",
       "      <td>0.351735</td>\n",
       "      <td>6.092520e-03</td>\n",
       "    </tr>\n",
       "  </tbody>\n",
       "</table>\n",
       "</div>"
      ],
      "text/plain": [
       "   Generation         x         y     theta      psi       phi  lattice_sum  \\\n",
       "0           0  0.873412  0.800179  1.370070  2.74002  1.253950     0.076356   \n",
       "1           0  0.895821  0.841719  1.405600  2.50770  1.319820     0.063826   \n",
       "2           0  0.720193  0.937961  1.127120  2.81110  1.472420     0.114572   \n",
       "3           0  0.473253  0.098027  0.735559  2.63948  0.140581     1.778850   \n",
       "4           0  0.953222  0.184079  1.496620  2.25396  0.277030     0.351735   \n",
       "\n",
       "        fitness  \n",
       "0  0.000000e+00  \n",
       "1  8.984880e-01  \n",
       "2  3.726170e-01  \n",
       "3  1.083480e-13  \n",
       "4  6.092520e-03  "
      ]
     },
     "execution_count": 233,
     "metadata": {},
     "output_type": "execute_result"
    }
   ],
   "source": [
    "\n",
    "df_data1=pd.read_table('crystal_data_1.000000.txt',sep=\" \",skiprows=4)\n",
    "df_data2=pd.read_table('crystal_data_2.000000.txt',sep=\" \",skiprows=4)\n",
    "df_data3=pd.read_table('crystal_data_3.000000.txt',sep=\" \",skiprows=4)\n",
    "df_data4=pd.read_table('crystal_data_4.000000.txt',sep=\" \",skiprows=4)\n",
    "df_data5=pd.read_table('crystal_data_5.000000.txt',sep=\" \",skiprows=4)\n",
    "df_data6=pd.read_table('crystal_data_6.000000.txt',sep=\" \",skiprows=4)\n",
    "df_data7=pd.read_table('crystal_data_7.000000.txt',sep=\" \",skiprows=4)\n",
    "df_data8=pd.read_table('crystal_data_8.000000.txt',sep=\" \",skiprows=4)\n",
    "df=[df_data1,df_data2,df_data3,df_data4,df_data5,df_data6,df_data7,df_data8]\n",
    "df_data1.head()"
   ]
  },
  {
   "cell_type": "code",
   "execution_count": 234,
   "metadata": {},
   "outputs": [],
   "source": [
    "#split in Generations\n",
    "runs=[]\n",
    "for j,df_data in enumerate(df):\n",
    "    count=0\n",
    "    before=0\n",
    "    generations=[]\n",
    "    for i,gen in enumerate(df_data[\"Generation\"]):\n",
    "        if gen!=count:\n",
    "            generations.append(df_data.iloc[before:i-1,:])\n",
    "            before=i-1\n",
    "            count+=1\n",
    "    runs.append(generations)\n"
   ]
  },
  {
   "cell_type": "code",
   "execution_count": 235,
   "metadata": {},
   "outputs": [
    {
     "name": "stdout",
     "output_type": "stream",
     "text": [
      "1.64795\n"
     ]
    }
   ],
   "source": [
    "print(runs[6][99]['fitness'].max())"
   ]
  },
  {
   "cell_type": "code",
   "execution_count": 236,
   "metadata": {},
   "outputs": [
    {
     "ename": "ValueError",
     "evalue": "too many values to unpack (expected 2)",
     "output_type": "error",
     "traceback": [
      "\u001b[0;31m--------------------\u001b[0m",
      "\u001b[0;31mValueError\u001b[0mTraceback (most recent call last)",
      "\u001b[0;32m<ipython-input-236-f081e9fff256>\u001b[0m in \u001b[0;36m<module>\u001b[0;34m\u001b[0m\n\u001b[1;32m      3\u001b[0m \u001b[0mbest_y\u001b[0m\u001b[0;34m=\u001b[0m\u001b[0;34m[\u001b[0m\u001b[0;34m]\u001b[0m\u001b[0;34m\u001b[0m\u001b[0;34m\u001b[0m\u001b[0m\n\u001b[1;32m      4\u001b[0m \u001b[0mfit_master\u001b[0m\u001b[0;34m=\u001b[0m\u001b[0;34m[\u001b[0m\u001b[0;34m]\u001b[0m\u001b[0;34m\u001b[0m\u001b[0;34m\u001b[0m\u001b[0m\n\u001b[0;32m----> 5\u001b[0;31m \u001b[0;32mfor\u001b[0m \u001b[0mj\u001b[0m\u001b[0;34m,\u001b[0m\u001b[0mgenerations\u001b[0m \u001b[0;32min\u001b[0m \u001b[0mruns\u001b[0m\u001b[0;34m:\u001b[0m\u001b[0;34m\u001b[0m\u001b[0;34m\u001b[0m\u001b[0m\n\u001b[0m\u001b[1;32m      6\u001b[0m     \u001b[0mfitest\u001b[0m\u001b[0;34m=\u001b[0m\u001b[0;34m[\u001b[0m\u001b[0;34m]\u001b[0m\u001b[0;34m\u001b[0m\u001b[0;34m\u001b[0m\u001b[0m\n\u001b[1;32m      7\u001b[0m     \u001b[0mbest_sol_x\u001b[0m\u001b[0;34m=\u001b[0m\u001b[0;34m[\u001b[0m\u001b[0;34m]\u001b[0m\u001b[0;34m\u001b[0m\u001b[0;34m\u001b[0m\u001b[0m\n",
      "\u001b[0;31mValueError\u001b[0m: too many values to unpack (expected 2)"
     ]
    }
   ],
   "source": [
    "#find fittest per Generation\n",
    "best_x=[]\n",
    "best_y=[]\n",
    "fit_master=[]\n",
    "for generations in runs:\n",
    "    fitest=[]\n",
    "    best_sol_x=[]\n",
    "    best_sol_y=[]\n",
    "    for i,gen in enumerate(generations):\n",
    "        fitest.append(generations[i]['fitness'].max())\n",
    "        for j,ele in enumerate(generations[i]['fitness']):\n",
    "            if (generations[i]['fitness'].iloc[j]==fitest[i]):\n",
    "                best_sol_x.append(generations[i]['x'].iloc[j])\n",
    "                best_sol_y.append(generations[i]['y'].iloc[j])\n",
    "                #hier können weitere Parameter der fittesten Werte gefiltert werden.\n",
    "    best_x.append(best_sol_x)\n",
    "    best_y.append(best_sol_y)\n",
    "    fit_master.append(fitest)"
   ]
  },
  {
   "cell_type": "code",
   "execution_count": 208,
   "metadata": {},
   "outputs": [
    {
     "data": {
      "image/png": "[encoded data removed]",
      "text/plain": [
       "<Figure size 1080x504 with 1 Axes>"
      ]
     },
     "metadata": {
      "needs_background": "light"
     },
     "output_type": "display_data"
    }
   ],
   "source": [
    "plt.figure(figsize=(15,7))\n",
    "for fitest in fit_master:\n",
    "    plt.plot(fitest)\n",
    "#plt.yscale('log')\n",
    "plt.ylabel('Fitness')\n",
    "plt.xlabel('Generation')\n",
    "plt.title('Fittest per Generation')\n",
    "plt.savefig('Fittest_crystal.png')"
   ]
  },
  {
   "cell_type": "code",
   "execution_count": 164,
   "metadata": {},
   "outputs": [
    {
     "data": {
      "image/png": "[encoded data removed]",
      "text/plain": [
       "<Figure size 720x504 with 1 Axes>"
      ]
     },
     "metadata": {
      "needs_background": "light"
     },
     "output_type": "display_data"
    }
   ],
   "source": [
    "x=np.linspace(-1.4,1.4,100);\n",
    "x1=np.linspace(-1.3,1.3,100)\n",
    "y1=np.exp(-(x1**2/0.8))-0.36\n",
    "y=np.exp(-(x**2))-0.36\n",
    "fig=plt.figure(figsize=(10,7))\n",
    "plt.plot(y)\n",
    "plt.plot(y1)\n",
    "plt.ylabel('T',fontsize=20)\n",
    "plt.xlabel(r'$1/\\rho$',fontsize=20)\n",
    "plt.title('')\n",
    "plt.xticks([0,50],[0,r'$1/\\rho_c$'])\n",
    "plt.yticks([-0.24],[0])\n",
    "plt.text(10,0.5,'fluid',fontsize=20)\n",
    "plt.text(80,0.5,'fluid',fontsize=20)\n",
    "plt.text(45,0.1,'solid',fontsize=20)\n",
    "plt.text(48,0.55,'C',fontsize=20)\n",
    "plt.plot(49,np.exp(-(0.665**2)),'.',c='black')\n",
    "plt.savefig('Trho.png')"
   ]
  },
  {
   "cell_type": "code",
   "execution_count": null,
   "metadata": {},
   "outputs": [],
   "source": []
  },
  {
   "cell_type": "code",
   "execution_count": null,
   "metadata": {},
   "outputs": [],
   "source": []
  },
  {
   "cell_type": "code",
   "execution_count": null,
   "metadata": {},
   "outputs": [],
   "source": []
  }
 ],
 "metadata": {
  "kernelspec": {
   "display_name": "Python 3",
   "language": "python",
   "name": "python3"
  },
  "language_info": {
   "codemirror_mode": {
    "name": "ipython",
    "version": 3
   },
   "file_extension": ".py",
   "mimetype": "text/x-python",
   "name": "python",
   "nbconvert_exporter": "python",
   "pygments_lexer": "ipython3",
   "version": "3.7.3"
  }
 },
 "nbformat": 4,
 "nbformat_minor": 2
}
