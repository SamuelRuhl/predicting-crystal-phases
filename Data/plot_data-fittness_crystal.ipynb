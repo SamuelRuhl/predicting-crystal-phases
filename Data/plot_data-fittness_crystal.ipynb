{
 "cells": [
  {
   "cell_type": "code",
   "execution_count": 137,
   "metadata": {},
   "outputs": [],
   "source": [
    "import numpy as np\n",
    "import pandas as pd\n",
    "import matplotlib.pyplot as plt\n",
    "import scipy.interpolate"
   ]
  },
  {
   "cell_type": "code",
   "execution_count": 138,
   "metadata": {},
   "outputs": [
    {
     "name": "stdout",
     "output_type": "stream",
     "text": [
      "   Generation         x         y     theta       psi       phi  lattice_sum  \\\n",
      "0           0  0.303905  0.984684  0.476975  0.953252  1.546730     4.772820   \n",
      "1           0 -0.719512  1.000000 -1.171550  1.897300  0.226798     0.883263   \n",
      "2           0  0.419242  1.000000  1.470250  0.961078  0.235614     1.918580   \n",
      "3           0  0.019298  1.000000  0.029752  1.330280  0.004597    18.319900   \n",
      "4           0  0.251700  1.000000  0.468213  1.206760  0.089378     8.662420   \n",
      "5           0  0.934689  0.426058  1.468170  1.478930  0.668923     1.332860   \n",
      "\n",
      "        fitness  \n",
      "0  6.406340e-07  \n",
      "1  1.613500e-01  \n",
      "2  5.889720e-03  \n",
      "3  9.878670e-26  \n",
      "4  2.543260e-12  \n",
      "5  3.832110e-02  \n"
     ]
    },
    {
     "name": "stderr",
     "output_type": "stream",
     "text": [
      "/Users/samuelruhl/anaconda2/envs/py37/lib/python3.7/site-packages/ipykernel_launcher.py:2: FutureWarning: read_table is deprecated, use read_csv instead.\n",
      "  \n"
     ]
    }
   ],
   "source": [
    "\n",
    "df_data=pd.read_table('crystal_data.txt',sep=\" \",skiprows=4)\n",
    "print(df_data.iloc[:6,:])"
   ]
  },
  {
   "cell_type": "code",
   "execution_count": 139,
   "metadata": {},
   "outputs": [
    {
     "name": "stdout",
     "output_type": "stream",
     "text": [
      "1.27747\n"
     ]
    }
   ],
   "source": [
    "#split in Generations\n",
    "generations=[]\n",
    "count=0\n",
    "before=0\n",
    "tmp_list=[]\n",
    "for i,gen in enumerate(df_data[\"Generation\"]):\n",
    "    if gen!=count:\n",
    "        generations.append(df_data.iloc[before:i-1,:])\n",
    "        before=i-1\n",
    "        count+=1\n",
    "print(generations[9]['fitness'].max())"
   ]
  },
  {
   "cell_type": "code",
   "execution_count": null,
   "metadata": {},
   "outputs": [],
   "source": []
  },
  {
   "cell_type": "code",
   "execution_count": 140,
   "metadata": {},
   "outputs": [],
   "source": [
    "#find fittest per Generation\n",
    "fitest=[]\n",
    "best_sol_x=[]\n",
    "best_sol_y=[]\n",
    "for i,gen in enumerate(generations):\n",
    "    fitest.append(generations[i]['fitness'].max())\n",
    "    for j,ele in enumerate(generations[i]['fitness']):\n",
    "        if (generations[i]['fitness'].iloc[j]==fitest[i]):\n",
    "            best_sol_x.append(generations[i]['x'].iloc[j])\n",
    "            best_sol_y.append(generations[i]['y'].iloc[j])"
   ]
  },
  {
   "cell_type": "code",
   "execution_count": 141,
   "metadata": {},
   "outputs": [
    {
     "data": {
      "image/png": "[encoded data removed]",
      "text/plain": [
       "<Figure size 1080x504 with 1 Axes>"
      ]
     },
     "metadata": {
      "needs_background": "light"
     },
     "output_type": "display_data"
    }
   ],
   "source": [
    "plt.figure(figsize=(15,7))\n",
    "plt.plot(fitest)\n",
    "#plt.yscale('log')\n",
    "plt.ylabel('Fitness')\n",
    "plt.xlabel('Generation')\n",
    "plt.title('Fittest per Generation')\n",
    "plt.savefig('Fittest.png')"
   ]
  },
  {
   "cell_type": "code",
   "execution_count": null,
   "metadata": {},
   "outputs": [],
   "source": []
  },
  {
   "cell_type": "code",
   "execution_count": null,
   "metadata": {},
   "outputs": [],
   "source": []
  },
  {
   "cell_type": "code",
   "execution_count": null,
   "metadata": {},
   "outputs": [],
   "source": []
  },
  {
   "cell_type": "code",
   "execution_count": null,
   "metadata": {},
   "outputs": [],
   "source": []
  }
 ],
 "metadata": {
  "kernelspec": {
   "display_name": "Python 3",
   "language": "python",
   "name": "python3"
  },
  "language_info": {
   "codemirror_mode": {
    "name": "ipython",
    "version": 3
   },
   "file_extension": ".py",
   "mimetype": "text/x-python",
   "name": "python",
   "nbconvert_exporter": "python",
   "pygments_lexer": "ipython3",
   "version": "3.7.3"
  }
 },
 "nbformat": 4,
 "nbformat_minor": 2
}
